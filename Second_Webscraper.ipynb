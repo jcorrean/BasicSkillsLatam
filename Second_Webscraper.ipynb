{
 "cells": [
  {
   "cell_type": "markdown",
   "id": "endless-panama",
   "metadata": {},
   "source": [
    "exactly in the same way than in the past notebook, if you dont have any of these packages installed, you will need to install them first. \n",
    "cmd command or command terminal\n",
    "'pip install  name of the package'\n"
   ]
  },
  {
   "cell_type": "markdown",
   "id": "minus-taiwan",
   "metadata": {},
   "source": [
    "Now, this code is splied into 3 parts: the calling for all the necessary packages. The path setup and the rest of the process.\n",
    "I recomend you tu run each part separately to know if you have any issues and solve them."
   ]
  },
  {
   "cell_type": "code",
   "execution_count": 16,
   "id": "robust-measure",
   "metadata": {},
   "outputs": [],
   "source": [
    "import logging \n",
    "import os \n",
    "from selenium import webdriver\n",
    "from selenium.webdriver.common.by import By\n",
    "from selenium.webdriver.support.ui import WebDriverWait \n",
    "from selenium.webdriver.support import expected_conditions as EC\n",
    "from selenium.common.exceptions import TimeoutException\n",
    "import pandas as pd\n",
    "import time\n",
    "import json\n",
    "from selenium.webdriver.common.keys import Keys"
   ]
  },
  {
   "cell_type": "markdown",
   "id": "prescribed-genre",
   "metadata": {},
   "source": [
    "These are the paths with the routes to:\n",
    "1. Path where you located the cvs file with the links. this is the same worked in the previous notebook.\n",
    "2. Path where you want to download all the files. \n",
    "As a recomendation, I usually save all my files in the \"raw data\" folder, this in order to push all the files directly to the github repo."
   ]
  },
  {
   "cell_type": "code",
   "execution_count": 17,
   "id": "compressed-valuable",
   "metadata": {},
   "outputs": [],
   "source": [
    "csv_path = '/home/alrier/Documentos/GitHub/SoftSkillsLatam/Costa_Rica/URLs.csv' #path where you located the cvs file with the links.\n",
    "file_path = '/home/alrier/Documentos/GitHub/SoftSkillsLatam/Costa_Rica/' # path to download the university files.\n",
    "df = pd.read_csv(csv_path)"
   ]
  },
  {
   "cell_type": "markdown",
   "id": "dominant-leave",
   "metadata": {},
   "source": [
    "Once you have the paths seted up, you can run the following lines.\n",
    "\n",
    "This code will open a google chrome web browser using selenium, will loop through the URL columns in the csv file deined in the first path, then will open each link and look for the keywords = [\"Program\", \"Master\", \"Doctor\", \"PhD\", \"Ph.D.\"]. You can always change it if you consider it necessary. Now, if the code finds any of all of the keywords in the text, then it will print and wownload the document in the second path defined previously. \n",
    "\n",
    "the codu wil create a security copy of the original csv file in the path defined  here: new_csv_path = \"/home/alrier/Documentos/canada/USA_modified.csv\" So, better you change this path to anyone you want.\n",
    "\n",
    "As a setup recomendations, some webpages have javascript interactive buttons. It force the browser to take more time in the process. If you see that the code colapse becouse of the timing: WebDriverWait(driver, 3) --> this is the timer for the code, the only thing you need to do is, modify this variable to the number of seconds you want the code to wait until the browser is ready."
   ]
  },
  {
   "cell_type": "code",
   "execution_count": 18,
   "id": "fancy-apparatus",
   "metadata": {},
   "outputs": [
    {
     "name": "stdout",
     "output_type": "stream",
     "text": [
      "Completed!.\n"
     ]
    }
   ],
   "source": [
    "# Chrome options\n",
    "options = webdriver.ChromeOptions()\n",
    "options.add_argument(\"--kiosk-printing\")\n",
    "settings = {\n",
    "    \"recentDestinations\": [{\n",
    "        \"id\": \"Save as PDF\",\n",
    "        \"origin\": \"local\",\n",
    "        \"account\": \"\",\n",
    "    }],\n",
    "    \"selectedDestinationId\": \"Save as PDF\",\n",
    "    \"version\": 2\n",
    "}\n",
    "prefs = {'printing.print_preview_sticky_settings.appState': json.dumps(settings),\n",
    "         \"savefile.default_directory\": file_path, }\n",
    "options.add_experimental_option('prefs', prefs)\n",
    "# Loop through URLs\n",
    "for index, row in df.iterrows():\n",
    "    url = row['URL']\n",
    "    driver = webdriver.Chrome(options=options)\n",
    "    driver.get(url)\n",
    "    try:\n",
    "        dynamic_element = WebDriverWait(driver, 3).until(\n",
    "            EC.presence_of_element_located((By.XPATH, \"//button[contains(@class,'animated')]\"))\n",
    "        )\n",
    "        dynamic_element.click()\n",
    "        WebDriverWait(driver, 3).until(lambda driver: driver.execute_script('return document.readyState') == 'complete')\n",
    "    except:\n",
    "        pass\n",
    "    keywords = [\"master\", \"Master\", \"MSc\", \"PhD\", \"phd\", \"Doctorado\", \"doctorado\", \"maestría\"]\n",
    "    for keyword in keywords:\n",
    "        if driver.find_elements(By.XPATH, f\"//*[contains(text(), '{keyword}')]\"):\n",
    "            driver.execute_script('window.print();')\n",
    "            break\n",
    "    driver.quit()\n",
    "    # Delete the URL from the csv file after each iteration.\n",
    "    df.at[index, 'URL'] = \"\"\n",
    "# Save the modified dataframe in a new CSV file\n",
    "new_csv_path = '/home/alrier/Documentos/GitHub/SoftSkillsLatam/Costa_Rica/URLs.csv' \n",
    "df.to_csv(new_csv_path, index=False)\n",
    "# Rename each PDF in the \"pdf_files_temp\" folder.\n",
    "pdf_temp_path = os.path.join(file_path, \"pdf_files_temp\")\n",
    "for file in os.listdir(pdf_temp_path):\n",
    "    os.rename(os.path.join(pdf_temp_path, file), os.path.join(file_path, \"USA_\" + file))\n",
    "# Delete the \"pdf_files_temp\" after the process is completed.\n",
    "os.rmdir(pdf_temp_path)\n",
    "print('Completed!.') #if successfully completed."
   ]
  },
  {
   "cell_type": "markdown",
   "id": "exterior-adapter",
   "metadata": {},
   "source": []
  }
 ],
 "metadata": {
  "kernelspec": {
   "display_name": "Python 3 (ipykernel)",
   "language": "python",
   "name": "python3"
  },
  "language_info": {
   "codemirror_mode": {
    "name": "ipython",
    "version": 3
   },
   "file_extension": ".py",
   "mimetype": "text/x-python",
   "name": "python",
   "nbconvert_exporter": "python",
   "pygments_lexer": "ipython3",
   "version": "3.7.10"
  }
 },
 "nbformat": 4,
 "nbformat_minor": 5
}
