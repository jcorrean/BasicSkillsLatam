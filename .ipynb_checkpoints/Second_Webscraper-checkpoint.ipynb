{
 "cells": [
  {
   "cell_type": "markdown",
   "id": "unknown-bottle",
   "metadata": {},
   "source": [
    "exactly in the same way than in the past notebook, if you dont have any of these packages installed, you will need to install them first. \n",
    "cmd command or command terminal\n",
    "'pip install  name of the package'\n"
   ]
  },
  {
   "cell_type": "markdown",
   "id": "handy-active",
   "metadata": {},
   "source": [
    "Now, this code is splied into 3 parts: the calling for all the necessary packages. The path setup and the rest of the process.\n",
    "I recomend you tu run each part separately to know if you have any issues and solve them."
   ]
  },
  {
   "cell_type": "code",
   "execution_count": 1,
   "id": "stock-attention",
   "metadata": {},
   "outputs": [],
   "source": [
    "import logging \n",
    "import os \n",
    "from selenium import webdriver\n",
    "from selenium.webdriver.common.by import By\n",
    "from selenium.webdriver.support.ui import WebDriverWait \n",
    "from selenium.webdriver.support import expected_conditions as EC\n",
    "from selenium.common.exceptions import TimeoutException\n",
    "import pandas as pd\n",
    "import time\n",
    "import json\n",
    "from selenium.webdriver.common.keys import Keys"
   ]
  },
  {
   "cell_type": "markdown",
   "id": "altered-trinidad",
   "metadata": {},
   "source": [
    "These are the paths with the routes to:\n",
    "1. Path where you located the cvs file with the links. this is the same worked in the previous notebook.\n",
    "2. Path where you want to download all the files. \n",
    "As a recomendation, I usually save all my files in the \"raw data\" folder, this in order to push all the files directly to the github repo."
   ]
  },
  {
   "cell_type": "code",
   "execution_count": 3,
   "id": "higher-chess",
   "metadata": {},
   "outputs": [],
   "source": [
    "csv_path = '/home/alrier/Documentos/canada/git/SSC/Raw Data/UK.csv' #path where you located the cvs file with the links.\n",
    "file_path = '/home/alrier/Documentos/canada/git/SSC/Raw Data/UK/' # path to download the university files.\n",
    "df = pd.read_csv(csv_path)"
   ]
  },
  {
   "cell_type": "markdown",
   "id": "increased-hepatitis",
   "metadata": {},
   "source": [
    "Once you have the paths seted up, you can run the following lines.\n",
    "\n",
    "This code will open a google chrome web browser using selenium, will loop through the URL columns in the csv file deined in the first path, then will open each link and look for the keywords = [\"Program\", \"Master\", \"Doctor\", \"PhD\", \"Ph.D.\"]. You can always change it if you consider it necessary. Now, if the code finds any of all of the keywords in the text, then it will print and wownload the document in the second path defined previously. \n",
    "\n",
    "the codu wil create a security copy of the original csv file in the path defined  here: new_csv_path = \"/home/alrier/Documentos/canada/USA_modified.csv\" So, better you change this path to anyone you want.\n",
    "\n",
    "As a setup recomendations, some webpages have javascript interactive buttons. It force the browser to take more time in the process. If you see that the code colapse becouse of the timing: WebDriverWait(driver, 3) --> this is the timer for the code, the only thing you need to do is, modify this variable to the number of seconds you want the code to wait until the browser is ready."
   ]
  },
  {
   "cell_type": "code",
   "execution_count": 4,
   "id": "short-chick",
   "metadata": {},
   "outputs": [
    {
     "ename": "FileNotFoundError",
     "evalue": "[Errno 2] No such file or directory: '/home/alrier/Documentos/canada/git/SSC/Raw Data/UK/pdf_files_temp'",
     "output_type": "error",
     "traceback": [
      "\u001b[0;31m---------------------------------------------------------------------------\u001b[0m",
      "\u001b[0;31mFileNotFoundError\u001b[0m                         Traceback (most recent call last)",
      "\u001b[0;32m<ipython-input-4-4cc69ac4c6f7>\u001b[0m in \u001b[0;36m<module>\u001b[0;34m\u001b[0m\n\u001b[1;32m     40\u001b[0m \u001b[0;31m# Rename each PDF in the \"pdf_files_temp\" folder.\u001b[0m\u001b[0;34m\u001b[0m\u001b[0;34m\u001b[0m\u001b[0;34m\u001b[0m\u001b[0m\n\u001b[1;32m     41\u001b[0m \u001b[0mpdf_temp_path\u001b[0m \u001b[0;34m=\u001b[0m \u001b[0mos\u001b[0m\u001b[0;34m.\u001b[0m\u001b[0mpath\u001b[0m\u001b[0;34m.\u001b[0m\u001b[0mjoin\u001b[0m\u001b[0;34m(\u001b[0m\u001b[0mfile_path\u001b[0m\u001b[0;34m,\u001b[0m \u001b[0;34m\"pdf_files_temp\"\u001b[0m\u001b[0;34m)\u001b[0m\u001b[0;34m\u001b[0m\u001b[0;34m\u001b[0m\u001b[0m\n\u001b[0;32m---> 42\u001b[0;31m \u001b[0;32mfor\u001b[0m \u001b[0mfile\u001b[0m \u001b[0;32min\u001b[0m \u001b[0mos\u001b[0m\u001b[0;34m.\u001b[0m\u001b[0mlistdir\u001b[0m\u001b[0;34m(\u001b[0m\u001b[0mpdf_temp_path\u001b[0m\u001b[0;34m)\u001b[0m\u001b[0;34m:\u001b[0m\u001b[0;34m\u001b[0m\u001b[0;34m\u001b[0m\u001b[0m\n\u001b[0m\u001b[1;32m     43\u001b[0m     \u001b[0mos\u001b[0m\u001b[0;34m.\u001b[0m\u001b[0mrename\u001b[0m\u001b[0;34m(\u001b[0m\u001b[0mos\u001b[0m\u001b[0;34m.\u001b[0m\u001b[0mpath\u001b[0m\u001b[0;34m.\u001b[0m\u001b[0mjoin\u001b[0m\u001b[0;34m(\u001b[0m\u001b[0mpdf_temp_path\u001b[0m\u001b[0;34m,\u001b[0m \u001b[0mfile\u001b[0m\u001b[0;34m)\u001b[0m\u001b[0;34m,\u001b[0m \u001b[0mos\u001b[0m\u001b[0;34m.\u001b[0m\u001b[0mpath\u001b[0m\u001b[0;34m.\u001b[0m\u001b[0mjoin\u001b[0m\u001b[0;34m(\u001b[0m\u001b[0mfile_path\u001b[0m\u001b[0;34m,\u001b[0m \u001b[0;34m\"USA_\"\u001b[0m \u001b[0;34m+\u001b[0m \u001b[0mfile\u001b[0m\u001b[0;34m)\u001b[0m\u001b[0;34m)\u001b[0m\u001b[0;34m\u001b[0m\u001b[0;34m\u001b[0m\u001b[0m\n\u001b[1;32m     44\u001b[0m \u001b[0;31m# Delete the \"pdf_files_temp\" after the process is completed.\u001b[0m\u001b[0;34m\u001b[0m\u001b[0;34m\u001b[0m\u001b[0;34m\u001b[0m\u001b[0m\n",
      "\u001b[0;31mFileNotFoundError\u001b[0m: [Errno 2] No such file or directory: '/home/alrier/Documentos/canada/git/SSC/Raw Data/UK/pdf_files_temp'"
     ]
    }
   ],
   "source": [
    "# Chrome options\n",
    "options = webdriver.ChromeOptions()\n",
    "options.add_argument(\"--kiosk-printing\")\n",
    "settings = {\n",
    "    \"recentDestinations\": [{\n",
    "        \"id\": \"Save as PDF\",\n",
    "        \"origin\": \"local\",\n",
    "        \"account\": \"\",\n",
    "    }],\n",
    "    \"selectedDestinationId\": \"Save as PDF\",\n",
    "    \"version\": 2\n",
    "}\n",
    "prefs = {'printing.print_preview_sticky_settings.appState': json.dumps(settings),\n",
    "         \"savefile.default_directory\": file_path, }\n",
    "options.add_experimental_option('prefs', prefs)\n",
    "# Loop through URLs\n",
    "for index, row in df.iterrows():\n",
    "    url = row['URL']\n",
    "    driver = webdriver.Chrome(options=options)\n",
    "    driver.get(url)\n",
    "    try:\n",
    "        dynamic_element = WebDriverWait(driver, 3).until(\n",
    "            EC.presence_of_element_located((By.XPATH, \"//button[contains(@class,'animated')]\"))\n",
    "        )\n",
    "        dynamic_element.click()\n",
    "        WebDriverWait(driver, 3).until(lambda driver: driver.execute_script('return document.readyState') == 'complete')\n",
    "    except:\n",
    "        pass\n",
    "    keywords = [\"master\", \"Master\", \"MSc\", \"Marketing\"]\n",
    "    for keyword in keywords:\n",
    "        if driver.find_elements(By.XPATH, f\"//*[contains(text(), '{keyword}')]\"):\n",
    "            driver.execute_script('window.print();')\n",
    "            break\n",
    "    driver.quit()\n",
    "    # Delete the URL from the csv file after each iteration.\n",
    "    df.at[index, 'URL'] = \"\"\n",
    "# Save the modified dataframe in a new CSV file\n",
    "new_csv_path = '/home/alrier/Documentos/canada/git/SSC/Raw Data/UK.csv' \n",
    "df.to_csv(new_csv_path, index=False)\n",
    "# Rename each PDF in the \"pdf_files_temp\" folder.\n",
    "pdf_temp_path = os.path.join(file_path, \"pdf_files_temp\")\n",
    "for file in os.listdir(pdf_temp_path):\n",
    "    os.rename(os.path.join(pdf_temp_path, file), os.path.join(file_path, \"USA_\" + file))\n",
    "# Delete the \"pdf_files_temp\" after the process is completed.\n",
    "os.rmdir(pdf_temp_path)\n",
    "print('Completed!.') #if successfully completed."
   ]
  },
  {
   "cell_type": "markdown",
   "id": "neutral-flavor",
   "metadata": {},
   "source": []
  },
  {
   "cell_type": "code",
   "execution_count": 7,
   "id": "accessible-lightning",
   "metadata": {},
   "outputs": [
    {
     "ename": "KeyError",
     "evalue": "'URL'",
     "output_type": "error",
     "traceback": [
      "\u001b[0;31m---------------------------------------------------------------------------\u001b[0m",
      "\u001b[0;31mKeyError\u001b[0m                                  Traceback (most recent call last)",
      "\u001b[0;32m~/anaconda3/lib/python3.7/site-packages/pandas/core/indexes/base.py\u001b[0m in \u001b[0;36mget_loc\u001b[0;34m(self, key, method, tolerance)\u001b[0m\n\u001b[1;32m   3360\u001b[0m             \u001b[0;32mtry\u001b[0m\u001b[0;34m:\u001b[0m\u001b[0;34m\u001b[0m\u001b[0;34m\u001b[0m\u001b[0m\n\u001b[0;32m-> 3361\u001b[0;31m                 \u001b[0;32mreturn\u001b[0m \u001b[0mself\u001b[0m\u001b[0;34m.\u001b[0m\u001b[0m_engine\u001b[0m\u001b[0;34m.\u001b[0m\u001b[0mget_loc\u001b[0m\u001b[0;34m(\u001b[0m\u001b[0mcasted_key\u001b[0m\u001b[0;34m)\u001b[0m\u001b[0;34m\u001b[0m\u001b[0;34m\u001b[0m\u001b[0m\n\u001b[0m\u001b[1;32m   3362\u001b[0m             \u001b[0;32mexcept\u001b[0m \u001b[0mKeyError\u001b[0m \u001b[0;32mas\u001b[0m \u001b[0merr\u001b[0m\u001b[0;34m:\u001b[0m\u001b[0;34m\u001b[0m\u001b[0;34m\u001b[0m\u001b[0m\n",
      "\u001b[0;32m~/anaconda3/lib/python3.7/site-packages/pandas/_libs/index.pyx\u001b[0m in \u001b[0;36mpandas._libs.index.IndexEngine.get_loc\u001b[0;34m()\u001b[0m\n",
      "\u001b[0;32m~/anaconda3/lib/python3.7/site-packages/pandas/_libs/index.pyx\u001b[0m in \u001b[0;36mpandas._libs.index.IndexEngine.get_loc\u001b[0;34m()\u001b[0m\n",
      "\u001b[0;32mpandas/_libs/hashtable_class_helper.pxi\u001b[0m in \u001b[0;36mpandas._libs.hashtable.PyObjectHashTable.get_item\u001b[0;34m()\u001b[0m\n",
      "\u001b[0;32mpandas/_libs/hashtable_class_helper.pxi\u001b[0m in \u001b[0;36mpandas._libs.hashtable.PyObjectHashTable.get_item\u001b[0;34m()\u001b[0m\n",
      "\u001b[0;31mKeyError\u001b[0m: 'URL'",
      "\nThe above exception was the direct cause of the following exception:\n",
      "\u001b[0;31mKeyError\u001b[0m                                  Traceback (most recent call last)",
      "\u001b[0;32m<ipython-input-7-dcfc2b3e350d>\u001b[0m in \u001b[0;36m<module>\u001b[0;34m\u001b[0m\n\u001b[1;32m     18\u001b[0m \u001b[0;32mfor\u001b[0m \u001b[0mindex\u001b[0m\u001b[0;34m,\u001b[0m \u001b[0mrow\u001b[0m \u001b[0;32min\u001b[0m \u001b[0mdf\u001b[0m\u001b[0;34m.\u001b[0m\u001b[0miterrows\u001b[0m\u001b[0;34m(\u001b[0m\u001b[0;34m)\u001b[0m\u001b[0;34m:\u001b[0m\u001b[0;34m\u001b[0m\u001b[0;34m\u001b[0m\u001b[0m\n\u001b[1;32m     19\u001b[0m \u001b[0;34m\u001b[0m\u001b[0m\n\u001b[0;32m---> 20\u001b[0;31m     \u001b[0murl\u001b[0m \u001b[0;34m=\u001b[0m \u001b[0mrow\u001b[0m\u001b[0;34m[\u001b[0m\u001b[0;34m'URL'\u001b[0m\u001b[0;34m]\u001b[0m\u001b[0;34m\u001b[0m\u001b[0;34m\u001b[0m\u001b[0m\n\u001b[0m\u001b[1;32m     21\u001b[0m     \u001b[0mdriver\u001b[0m \u001b[0;34m=\u001b[0m \u001b[0mwebdriver\u001b[0m\u001b[0;34m.\u001b[0m\u001b[0mChrome\u001b[0m\u001b[0;34m(\u001b[0m\u001b[0moptions\u001b[0m\u001b[0;34m=\u001b[0m\u001b[0moptions\u001b[0m\u001b[0;34m)\u001b[0m\u001b[0;34m\u001b[0m\u001b[0;34m\u001b[0m\u001b[0m\n\u001b[1;32m     22\u001b[0m     \u001b[0mdriver\u001b[0m\u001b[0;34m.\u001b[0m\u001b[0mget\u001b[0m\u001b[0;34m(\u001b[0m\u001b[0murl\u001b[0m\u001b[0;34m)\u001b[0m\u001b[0;34m\u001b[0m\u001b[0;34m\u001b[0m\u001b[0m\n",
      "\u001b[0;32m~/anaconda3/lib/python3.7/site-packages/pandas/core/series.py\u001b[0m in \u001b[0;36m__getitem__\u001b[0;34m(self, key)\u001b[0m\n\u001b[1;32m    940\u001b[0m \u001b[0;34m\u001b[0m\u001b[0m\n\u001b[1;32m    941\u001b[0m         \u001b[0;32melif\u001b[0m \u001b[0mkey_is_scalar\u001b[0m\u001b[0;34m:\u001b[0m\u001b[0;34m\u001b[0m\u001b[0;34m\u001b[0m\u001b[0m\n\u001b[0;32m--> 942\u001b[0;31m             \u001b[0;32mreturn\u001b[0m \u001b[0mself\u001b[0m\u001b[0;34m.\u001b[0m\u001b[0m_get_value\u001b[0m\u001b[0;34m(\u001b[0m\u001b[0mkey\u001b[0m\u001b[0;34m)\u001b[0m\u001b[0;34m\u001b[0m\u001b[0;34m\u001b[0m\u001b[0m\n\u001b[0m\u001b[1;32m    943\u001b[0m \u001b[0;34m\u001b[0m\u001b[0m\n\u001b[1;32m    944\u001b[0m         \u001b[0;32mif\u001b[0m \u001b[0mis_hashable\u001b[0m\u001b[0;34m(\u001b[0m\u001b[0mkey\u001b[0m\u001b[0;34m)\u001b[0m\u001b[0;34m:\u001b[0m\u001b[0;34m\u001b[0m\u001b[0;34m\u001b[0m\u001b[0m\n",
      "\u001b[0;32m~/anaconda3/lib/python3.7/site-packages/pandas/core/series.py\u001b[0m in \u001b[0;36m_get_value\u001b[0;34m(self, label, takeable)\u001b[0m\n\u001b[1;32m   1049\u001b[0m \u001b[0;34m\u001b[0m\u001b[0m\n\u001b[1;32m   1050\u001b[0m         \u001b[0;31m# Similar to Index.get_value, but we do not fall back to positional\u001b[0m\u001b[0;34m\u001b[0m\u001b[0;34m\u001b[0m\u001b[0;34m\u001b[0m\u001b[0m\n\u001b[0;32m-> 1051\u001b[0;31m         \u001b[0mloc\u001b[0m \u001b[0;34m=\u001b[0m \u001b[0mself\u001b[0m\u001b[0;34m.\u001b[0m\u001b[0mindex\u001b[0m\u001b[0;34m.\u001b[0m\u001b[0mget_loc\u001b[0m\u001b[0;34m(\u001b[0m\u001b[0mlabel\u001b[0m\u001b[0;34m)\u001b[0m\u001b[0;34m\u001b[0m\u001b[0;34m\u001b[0m\u001b[0m\n\u001b[0m\u001b[1;32m   1052\u001b[0m         \u001b[0;32mreturn\u001b[0m \u001b[0mself\u001b[0m\u001b[0;34m.\u001b[0m\u001b[0mindex\u001b[0m\u001b[0;34m.\u001b[0m\u001b[0m_get_values_for_loc\u001b[0m\u001b[0;34m(\u001b[0m\u001b[0mself\u001b[0m\u001b[0;34m,\u001b[0m \u001b[0mloc\u001b[0m\u001b[0;34m,\u001b[0m \u001b[0mlabel\u001b[0m\u001b[0;34m)\u001b[0m\u001b[0;34m\u001b[0m\u001b[0;34m\u001b[0m\u001b[0m\n\u001b[1;32m   1053\u001b[0m \u001b[0;34m\u001b[0m\u001b[0m\n",
      "\u001b[0;32m~/anaconda3/lib/python3.7/site-packages/pandas/core/indexes/base.py\u001b[0m in \u001b[0;36mget_loc\u001b[0;34m(self, key, method, tolerance)\u001b[0m\n\u001b[1;32m   3361\u001b[0m                 \u001b[0;32mreturn\u001b[0m \u001b[0mself\u001b[0m\u001b[0;34m.\u001b[0m\u001b[0m_engine\u001b[0m\u001b[0;34m.\u001b[0m\u001b[0mget_loc\u001b[0m\u001b[0;34m(\u001b[0m\u001b[0mcasted_key\u001b[0m\u001b[0;34m)\u001b[0m\u001b[0;34m\u001b[0m\u001b[0;34m\u001b[0m\u001b[0m\n\u001b[1;32m   3362\u001b[0m             \u001b[0;32mexcept\u001b[0m \u001b[0mKeyError\u001b[0m \u001b[0;32mas\u001b[0m \u001b[0merr\u001b[0m\u001b[0;34m:\u001b[0m\u001b[0;34m\u001b[0m\u001b[0;34m\u001b[0m\u001b[0m\n\u001b[0;32m-> 3363\u001b[0;31m                 \u001b[0;32mraise\u001b[0m \u001b[0mKeyError\u001b[0m\u001b[0;34m(\u001b[0m\u001b[0mkey\u001b[0m\u001b[0;34m)\u001b[0m \u001b[0;32mfrom\u001b[0m \u001b[0merr\u001b[0m\u001b[0;34m\u001b[0m\u001b[0;34m\u001b[0m\u001b[0m\n\u001b[0m\u001b[1;32m   3364\u001b[0m \u001b[0;34m\u001b[0m\u001b[0m\n\u001b[1;32m   3365\u001b[0m         \u001b[0;32mif\u001b[0m \u001b[0mis_scalar\u001b[0m\u001b[0;34m(\u001b[0m\u001b[0mkey\u001b[0m\u001b[0;34m)\u001b[0m \u001b[0;32mand\u001b[0m \u001b[0misna\u001b[0m\u001b[0;34m(\u001b[0m\u001b[0mkey\u001b[0m\u001b[0;34m)\u001b[0m \u001b[0;32mand\u001b[0m \u001b[0;32mnot\u001b[0m \u001b[0mself\u001b[0m\u001b[0;34m.\u001b[0m\u001b[0mhasnans\u001b[0m\u001b[0;34m:\u001b[0m\u001b[0;34m\u001b[0m\u001b[0;34m\u001b[0m\u001b[0m\n",
      "\u001b[0;31mKeyError\u001b[0m: 'URL'"
     ]
    }
   ],
   "source": [
    "# Chrome options\n",
    "#options = webdriver.ChromeOptions()   \n",
    "#options.add_argument(\"--kiosk-printing\")\n",
    "\n",
    "#settings = {      \n",
    "#    \"recentDestinations\": [ {   \n",
    "#        \"id\": \"Save as PDF\",       \n",
    "#        \"origin\": \"local\",      \n",
    "#        \"account\": \"\",         \n",
    "#    }],   \n",
    "#    \"selectedDestinationId\": \"Save as PDF\",   \n",
    "#    \"version\": 2         \n",
    "#}      \n",
    "#prefs = {'printing.print_preview_sticky_settings.appState': json.dumps(settings), \"savefile.default_directory\": file_path,  }\n",
    "#options.add_experimental_option('prefs', prefs)\n",
    "\n",
    "# Loop through URLs      \n",
    "#for index, row in df.iterrows():\n",
    "    \n",
    " #   url = row['URL']     \n",
    " #   driver = webdriver.Chrome(options=options)     \n",
    " #   driver.get(url)\n",
    " \n",
    "    # Handle dynamic elements      \n",
    " #   try:          \n",
    "  #      dynamic_element = WebDriverWait(driver, 10).until(\n",
    "  #           EC.presence_of_element_located((By.XPATH, \"//button[contains(@class,'animated')]\"))     \n",
    "  #      ) \n",
    "  #      dynamic_element.click()  \n",
    "  #      WebDriverWait(driver, 10).until(lambda driver : driver.execute_script('return document.readyState') == 'complete')          \n",
    "  #  except:\n",
    " #       pass \n",
    "\n",
    "# Print if keywords found        \n",
    " #   keywords = [\"Program\", \"Master\", \"Doctor\", \"PhD\", \"Ph.D.\", \"MA\"]    \n",
    "   # for keyword in keywords:\n",
    "  #      if driver.find_elements(By.XPATH, f\"//*[contains(text(), '{keyword}')]\"):            \n",
    "  #          driver.execute_script('window.print();')\n",
    "  #          break\n",
    "  #          \n",
    "  #  driver.quit()\n",
    "               \n",
    "# Rename PDFs         \n",
    "#for file in os.listdir(file_path + \"pdf_files_temp\"):\n",
    "#    os.rename(file_path + \"pdf_files_temp\" + file, file_path + \"USA_\" + file)\n",
    "    \n",
    "# Delete temp folder        \n",
    "#os.removed(file_path + \"pdf_files_temp\")           \n",
    "\n",
    "# Show progress          \n",
    "#print(f'Trial {index}')\n"
   ]
  },
  {
   "cell_type": "code",
   "execution_count": null,
   "id": "prescription-mixer",
   "metadata": {},
   "outputs": [],
   "source": []
  }
 ],
 "metadata": {
  "kernelspec": {
   "display_name": "Python 3 (ipykernel)",
   "language": "python",
   "name": "python3"
  },
  "language_info": {
   "codemirror_mode": {
    "name": "ipython",
    "version": 3
   },
   "file_extension": ".py",
   "mimetype": "text/x-python",
   "name": "python",
   "nbconvert_exporter": "python",
   "pygments_lexer": "ipython3",
   "version": "3.7.10"
  }
 },
 "nbformat": 4,
 "nbformat_minor": 5
}
