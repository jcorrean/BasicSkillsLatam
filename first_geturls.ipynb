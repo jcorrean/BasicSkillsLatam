{
 "cells": [
  {
   "cell_type": "markdown",
   "id": "becoming-property",
   "metadata": {},
   "source": [
    "This is the first part of the code you need to run:\n",
    "\n",
    "The cell below will open a new Google chrome window in which you will need to manually open all the tabs with the information you consider useful. \n",
    "\n",
    "In this new window you will need to open as many tabs as you consider important. Take into consideration that, the more tabs you open, the more memory ram your computer will need to carry on all the process, however between 10 to 20 tabs are ok.\n",
    "\n",
    "Once you have all the tabs opened proceed with the second part of the code."
   ]
  },
  {
   "cell_type": "markdown",
   "id": "immune-economy",
   "metadata": {},
   "source": [
    "NOTE: if you dont have selenium installed, then first.\n",
    "open a console or your CMD command and run \n",
    "$ pip install selenium\n",
    "\n",
    "_______________________________________________________________\n",
    "I truly recomend to run this code in your local environment. \n",
    "It will surely run in Google colab but you will ned aditional code and configurations."
   ]
  },
  {
   "cell_type": "code",
   "execution_count": 1,
   "id": "fitting-proxy",
   "metadata": {},
   "outputs": [],
   "source": [
    "from selenium import webdriver #If you dont have this package installed, possibly you will need to do it.\n",
    "import csv\n",
    "csv_file_path = 'C:/Users/juesg/Desktop/Soft Skills/SoftSkillsLatam/Uruguay/URLs.csv' #Path you have to change to save your urls\n",
    "driver = webdriver.Chrome()"
   ]
  },
  {
   "cell_type": "markdown",
   "id": "seeing-guard",
   "metadata": {},
   "source": [
    "Here you will be able to take each one of these tabs previously opened and automatically copy each URL into a csv file defined in ---> csv_file_path = 'write here your desktop folder'\n",
    "\n",
    "Take into consideration to create a column title in the csv file, it has to be \"URL\" in capital letters. It will be important in the next stage of the process. Aditionally, this code will look for the URL column to paste the links.\n",
    "\n",
    "Once you have all the tabs already opened in the window displayed by the machine, now you can run the follow lines. It should be from here to the end of this notebook."
   ]
  },
  {
   "cell_type": "code",
   "execution_count": 8,
   "id": "optical-hygiene",
   "metadata": {},
   "outputs": [
    {
     "name": "stdout",
     "output_type": "stream",
     "text": [
      "URLs successfully copied to your CSV :) \n"
     ]
    }
   ],
   "source": [
    "#It allows you to handle manually all the tabs you previously opened.\n",
    "tab_handles = driver.window_handles\n",
    "tab_urls = []\n",
    "for handle in tab_handles:\n",
    "    driver.switch_to.window(handle)\n",
    "    tab_urls.append(driver.current_url) #append links\n",
    "    # close the tabs after copied all URLs\n",
    "    driver.close()\n",
    "# close main window\n",
    "driver.quit()\n",
    "# Open csv file in writing mode\n",
    "with open(csv_file_path, 'a', newline='') as csv_file:\n",
    "    csv_writer = csv.writer(csv_file)\n",
    "    # write the links in the URL column.\n",
    "    for url in tab_urls:\n",
    "        csv_writer.writerow([url])#If the code shows any error, rewrite the word url in capitals here.\n",
    "print(\"URLs successfully copied to your CSV :) \")"
   ]
  },
  {
   "cell_type": "code",
   "execution_count": null,
   "id": "dental-berkeley",
   "metadata": {},
   "outputs": [],
   "source": []
  }
 ],
 "metadata": {
  "kernelspec": {
   "display_name": "Python 3 (ipykernel)",
   "language": "python",
   "name": "python3"
  },
  "language_info": {
   "codemirror_mode": {
    "name": "ipython",
    "version": 3
   },
   "file_extension": ".py",
   "mimetype": "text/x-python",
   "name": "python",
   "nbconvert_exporter": "python",
   "pygments_lexer": "ipython3",
   "version": "3.12.3"
  }
 },
 "nbformat": 4,
 "nbformat_minor": 5
}
